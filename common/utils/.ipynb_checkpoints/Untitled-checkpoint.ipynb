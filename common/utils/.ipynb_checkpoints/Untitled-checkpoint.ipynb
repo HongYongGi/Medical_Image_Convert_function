{
 "cells": [
  {
   "cell_type": "code",
   "execution_count": 49,
   "id": "b7cf7e87-f5d6-4351-943f-cbf4cfad4ed1",
   "metadata": {},
   "outputs": [],
   "source": [
    "# Path\n",
    "import glob, os,shutil\n",
    "\n",
    "# data\n",
    "import numpy as np\n",
    "import pandas as pd\n",
    "import matplotlib.pyplot as plt \n",
    "import json\n",
    "\n",
    "# medical image \n",
    "import dicom2nifti.settings as settings\n",
    "import dicom2nifti\n",
    "from pydicom import read_file\n",
    "import pydicom\n",
    "import nibabel as nib\n",
    "\n",
    "\n",
    "# etc\n",
    "from tqdm import tqdm\n",
    "import ipywidgets as widgets\n",
    "from datetime import date\n",
    "\n",
    "\n",
    "###################################################\n"
   ]
  },
  {
   "cell_type": "code",
   "execution_count": 50,
   "id": "faab3c8b-ec88-4c44-9dd7-a04b9a858579",
   "metadata": {},
   "outputs": [],
   "source": [
    "def read_data(path):\n",
    "    data = nib.load(path)\n",
    "    data = data.get_fdata()\n",
    "    return data"
   ]
  },
  {
   "cell_type": "code",
   "execution_count": 51,
   "id": "0a6df82c-4eea-434b-9b85-d794bbbe398c",
   "metadata": {},
   "outputs": [],
   "source": [
    "def forceAspect(ax,aspect=1):\n",
    "    im = ax.get_images()\n",
    "    extent =  im[0].get_extent()\n",
    "    ax.set_aspect(abs((extent[1]-extent[0])/(extent[3]-extent[2]))/aspect)"
   ]
  },
  {
   "cell_type": "code",
   "execution_count": null,
   "id": "ba4412dc-c8f8-4e33-a7f8-3e4e9d079b8c",
   "metadata": {},
   "outputs": [],
   "source": []
  }
 ],
 "metadata": {
  "kernelspec": {
   "display_name": "Python 3",
   "language": "python",
   "name": "python3"
  },
  "language_info": {
   "codemirror_mode": {
    "name": "ipython",
    "version": 3
   },
   "file_extension": ".py",
   "mimetype": "text/x-python",
   "name": "python",
   "nbconvert_exporter": "python",
   "pygments_lexer": "ipython3",
   "version": "3.8.8"
  }
 },
 "nbformat": 4,
 "nbformat_minor": 5
}
